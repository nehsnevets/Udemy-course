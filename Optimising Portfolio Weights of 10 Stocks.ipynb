{
 "cells": [
  {
   "cell_type": "markdown",
   "metadata": {},
   "source": [
    "# Optimising Portfolio Weights of 10 Stocks"
   ]
  },
  {
   "cell_type": "code",
   "execution_count": 1,
   "metadata": {},
   "outputs": [],
   "source": [
    "# Import package dependencies\n",
    "import pandas as pd\n",
    "import numpy as np\n",
    "from scipy.optimize import minimize"
   ]
  },
  {
   "cell_type": "code",
   "execution_count": 3,
   "metadata": {},
   "outputs": [],
   "source": [
    "df1 = pd.read_csv('AAPL.csv')\n",
    "df2 = pd.read_csv('ARKG.csv')\n",
    "df3 = pd.read_csv('ARKK.csv')\n",
    "df4 = pd.read_csv('EEM.csv')\n",
    "df5 = pd.read_csv('GOOGL.csv')\n",
    "df6 = pd.read_csv('ICLN.csv')\n",
    "df7 = pd.read_csv('MSFT.csv')\n",
    "df8 = pd.read_csv('QQQ.csv')\n",
    "df9 = pd.read_csv('VOO.csv')\n",
    "df10 = pd.read_csv('VWO.csv')"
   ]
  },
  {
   "cell_type": "code",
   "execution_count": 4,
   "metadata": {},
   "outputs": [
    {
     "data": {
      "text/html": [
       "<div>\n",
       "<style scoped>\n",
       "    .dataframe tbody tr th:only-of-type {\n",
       "        vertical-align: middle;\n",
       "    }\n",
       "\n",
       "    .dataframe tbody tr th {\n",
       "        vertical-align: top;\n",
       "    }\n",
       "\n",
       "    .dataframe thead th {\n",
       "        text-align: right;\n",
       "    }\n",
       "</style>\n",
       "<table border=\"1\" class=\"dataframe\">\n",
       "  <thead>\n",
       "    <tr style=\"text-align: right;\">\n",
       "      <th></th>\n",
       "      <th>AAPL</th>\n",
       "      <th>ARKG</th>\n",
       "      <th>ARKK</th>\n",
       "      <th>EEM</th>\n",
       "      <th>GOOGL</th>\n",
       "      <th>ICLN</th>\n",
       "      <th>MSFT</th>\n",
       "      <th>QQQ</th>\n",
       "      <th>VOO</th>\n",
       "      <th>VWO</th>\n",
       "    </tr>\n",
       "    <tr>\n",
       "      <th>date</th>\n",
       "      <th></th>\n",
       "      <th></th>\n",
       "      <th></th>\n",
       "      <th></th>\n",
       "      <th></th>\n",
       "      <th></th>\n",
       "      <th></th>\n",
       "      <th></th>\n",
       "      <th></th>\n",
       "      <th></th>\n",
       "    </tr>\n",
       "  </thead>\n",
       "  <tbody>\n",
       "    <tr>\n",
       "      <th>2016-06-06</th>\n",
       "      <td>23.034662</td>\n",
       "      <td>17.126883</td>\n",
       "      <td>18.684488</td>\n",
       "      <td>30.824535</td>\n",
       "      <td>730.059998</td>\n",
       "      <td>8.119722</td>\n",
       "      <td>48.025192</td>\n",
       "      <td>106.049301</td>\n",
       "      <td>176.107620</td>\n",
       "      <td>30.556597</td>\n",
       "    </tr>\n",
       "    <tr>\n",
       "      <th>2016-06-07</th>\n",
       "      <td>23.128084</td>\n",
       "      <td>17.015066</td>\n",
       "      <td>18.693867</td>\n",
       "      <td>31.103611</td>\n",
       "      <td>731.090027</td>\n",
       "      <td>8.164486</td>\n",
       "      <td>47.997551</td>\n",
       "      <td>105.780472</td>\n",
       "      <td>176.425583</td>\n",
       "      <td>30.854626</td>\n",
       "    </tr>\n",
       "    <tr>\n",
       "      <th>2016-06-08</th>\n",
       "      <td>23.107069</td>\n",
       "      <td>16.940521</td>\n",
       "      <td>18.684488</td>\n",
       "      <td>31.328676</td>\n",
       "      <td>742.929993</td>\n",
       "      <td>8.164486</td>\n",
       "      <td>47.942272</td>\n",
       "      <td>105.962898</td>\n",
       "      <td>177.007004</td>\n",
       "      <td>31.108820</td>\n",
       "    </tr>\n",
       "    <tr>\n",
       "      <th>2016-06-09</th>\n",
       "      <td>23.272882</td>\n",
       "      <td>16.527723</td>\n",
       "      <td>18.412472</td>\n",
       "      <td>30.968580</td>\n",
       "      <td>742.520020</td>\n",
       "      <td>8.074963</td>\n",
       "      <td>47.555336</td>\n",
       "      <td>105.790085</td>\n",
       "      <td>176.734497</td>\n",
       "      <td>30.758200</td>\n",
       "    </tr>\n",
       "    <tr>\n",
       "      <th>2016-06-10</th>\n",
       "      <td>23.081377</td>\n",
       "      <td>16.157789</td>\n",
       "      <td>18.384335</td>\n",
       "      <td>30.185362</td>\n",
       "      <td>733.190002</td>\n",
       "      <td>7.734777</td>\n",
       "      <td>47.426357</td>\n",
       "      <td>104.589989</td>\n",
       "      <td>175.035614</td>\n",
       "      <td>29.978071</td>\n",
       "    </tr>\n",
       "  </tbody>\n",
       "</table>\n",
       "</div>"
      ],
      "text/plain": [
       "                 AAPL       ARKG       ARKK        EEM       GOOGL      ICLN  \\\n",
       "date                                                                           \n",
       "2016-06-06  23.034662  17.126883  18.684488  30.824535  730.059998  8.119722   \n",
       "2016-06-07  23.128084  17.015066  18.693867  31.103611  731.090027  8.164486   \n",
       "2016-06-08  23.107069  16.940521  18.684488  31.328676  742.929993  8.164486   \n",
       "2016-06-09  23.272882  16.527723  18.412472  30.968580  742.520020  8.074963   \n",
       "2016-06-10  23.081377  16.157789  18.384335  30.185362  733.190002  7.734777   \n",
       "\n",
       "                 MSFT         QQQ         VOO        VWO  \n",
       "date                                                      \n",
       "2016-06-06  48.025192  106.049301  176.107620  30.556597  \n",
       "2016-06-07  47.997551  105.780472  176.425583  30.854626  \n",
       "2016-06-08  47.942272  105.962898  177.007004  31.108820  \n",
       "2016-06-09  47.555336  105.790085  176.734497  30.758200  \n",
       "2016-06-10  47.426357  104.589989  175.035614  29.978071  "
      ]
     },
     "execution_count": 4,
     "metadata": {},
     "output_type": "execute_result"
    }
   ],
   "source": [
    "df1 = df1[['Date', 'Adj Close']]\n",
    "df1.rename(columns={'Date' : 'date', 'Adj Close' : 'AAPL'}, inplace=True)\n",
    "df1.set_index('date', inplace=True)\n",
    "\n",
    "df2 = df2[['Date', 'Adj Close']]\n",
    "df2.rename(columns={'Date' : 'date', 'Adj Close' : 'ARKG'}, inplace=True)\n",
    "df2.set_index('date', inplace=True)\n",
    "\n",
    "df3 = df3[['Date', 'Adj Close']]\n",
    "df3.rename(columns={'Date' : 'date', 'Adj Close' : 'ARKK'}, inplace=True)\n",
    "df3.set_index('date', inplace=True)\n",
    "\n",
    "df4 = df4[['Date', 'Adj Close']]\n",
    "df4.rename(columns={'Date' : 'date', 'Adj Close' : 'EEM'}, inplace=True)\n",
    "df4.set_index('date', inplace=True)\n",
    "\n",
    "df5 = df5[['Date', 'Adj Close']]\n",
    "df5.rename(columns={'Date' : 'date', 'Adj Close' : 'GOOGL'}, inplace=True)\n",
    "df5.set_index('date', inplace=True)\n",
    "\n",
    "df6 = df6[['Date', 'Adj Close']]\n",
    "df6.rename(columns={'Date' : 'date', 'Adj Close' : 'ICLN'}, inplace=True)\n",
    "df6.set_index('date', inplace=True)\n",
    "\n",
    "df7 = df7[['Date', 'Adj Close']]\n",
    "df7.rename(columns={'Date' : 'date', 'Adj Close' : 'MSFT'}, inplace=True)\n",
    "df7.set_index('date', inplace=True)\n",
    "\n",
    "df8 = df8[['Date', 'Adj Close']]\n",
    "df8.rename(columns={'Date' : 'date', 'Adj Close' : 'QQQ'}, inplace=True)\n",
    "df8.set_index('date', inplace=True)\n",
    "\n",
    "df9 = df9[['Date', 'Adj Close']]\n",
    "df9.rename(columns={'Date' : 'date', 'Adj Close' : 'VOO'}, inplace=True)\n",
    "df9.set_index('date', inplace=True)\n",
    "\n",
    "df10 = df10[['Date', 'Adj Close']]\n",
    "df10.rename(columns={'Date' : 'date', 'Adj Close' : 'VWO'}, inplace=True)\n",
    "df10.set_index('date', inplace=True)\n",
    "\n",
    "df = pd.concat([df1,df2,df3,df4,df5,df6,df7,df8,df9,df10],axis=1)\n",
    "df.head()"
   ]
  },
  {
   "cell_type": "code",
   "execution_count": 5,
   "metadata": {},
   "outputs": [
    {
     "data": {
      "text/html": [
       "<div>\n",
       "<style scoped>\n",
       "    .dataframe tbody tr th:only-of-type {\n",
       "        vertical-align: middle;\n",
       "    }\n",
       "\n",
       "    .dataframe tbody tr th {\n",
       "        vertical-align: top;\n",
       "    }\n",
       "\n",
       "    .dataframe thead th {\n",
       "        text-align: right;\n",
       "    }\n",
       "</style>\n",
       "<table border=\"1\" class=\"dataframe\">\n",
       "  <thead>\n",
       "    <tr style=\"text-align: right;\">\n",
       "      <th></th>\n",
       "      <th>AAPL</th>\n",
       "      <th>ARKG</th>\n",
       "      <th>ARKK</th>\n",
       "      <th>EEM</th>\n",
       "      <th>GOOGL</th>\n",
       "      <th>ICLN</th>\n",
       "      <th>MSFT</th>\n",
       "      <th>QQQ</th>\n",
       "      <th>VOO</th>\n",
       "      <th>VWO</th>\n",
       "    </tr>\n",
       "    <tr>\n",
       "      <th>date</th>\n",
       "      <th></th>\n",
       "      <th></th>\n",
       "      <th></th>\n",
       "      <th></th>\n",
       "      <th></th>\n",
       "      <th></th>\n",
       "      <th></th>\n",
       "      <th></th>\n",
       "      <th></th>\n",
       "      <th></th>\n",
       "    </tr>\n",
       "  </thead>\n",
       "  <tbody>\n",
       "    <tr>\n",
       "      <th>2016-06-07</th>\n",
       "      <td>0.004056</td>\n",
       "      <td>-0.006529</td>\n",
       "      <td>0.000502</td>\n",
       "      <td>0.009054</td>\n",
       "      <td>0.001411</td>\n",
       "      <td>0.005513</td>\n",
       "      <td>-0.000576</td>\n",
       "      <td>-0.002535</td>\n",
       "      <td>0.001806</td>\n",
       "      <td>0.009753</td>\n",
       "    </tr>\n",
       "    <tr>\n",
       "      <th>2016-06-08</th>\n",
       "      <td>-0.000909</td>\n",
       "      <td>-0.004381</td>\n",
       "      <td>-0.000502</td>\n",
       "      <td>0.007236</td>\n",
       "      <td>0.016195</td>\n",
       "      <td>0.000000</td>\n",
       "      <td>-0.001152</td>\n",
       "      <td>0.001725</td>\n",
       "      <td>0.003296</td>\n",
       "      <td>0.008238</td>\n",
       "    </tr>\n",
       "    <tr>\n",
       "      <th>2016-06-09</th>\n",
       "      <td>0.007176</td>\n",
       "      <td>-0.024367</td>\n",
       "      <td>-0.014558</td>\n",
       "      <td>-0.011494</td>\n",
       "      <td>-0.000552</td>\n",
       "      <td>-0.010965</td>\n",
       "      <td>-0.008071</td>\n",
       "      <td>-0.001631</td>\n",
       "      <td>-0.001540</td>\n",
       "      <td>-0.011271</td>\n",
       "    </tr>\n",
       "    <tr>\n",
       "      <th>2016-06-10</th>\n",
       "      <td>-0.008229</td>\n",
       "      <td>-0.022383</td>\n",
       "      <td>-0.001528</td>\n",
       "      <td>-0.025291</td>\n",
       "      <td>-0.012565</td>\n",
       "      <td>-0.042128</td>\n",
       "      <td>-0.002712</td>\n",
       "      <td>-0.011344</td>\n",
       "      <td>-0.009613</td>\n",
       "      <td>-0.025363</td>\n",
       "    </tr>\n",
       "    <tr>\n",
       "      <th>2016-06-13</th>\n",
       "      <td>-0.015077</td>\n",
       "      <td>-0.012111</td>\n",
       "      <td>-0.014796</td>\n",
       "      <td>-0.014017</td>\n",
       "      <td>-0.001787</td>\n",
       "      <td>-0.028935</td>\n",
       "      <td>-0.026029</td>\n",
       "      <td>-0.008353</td>\n",
       "      <td>-0.007526</td>\n",
       "      <td>-0.012573</td>\n",
       "    </tr>\n",
       "  </tbody>\n",
       "</table>\n",
       "</div>"
      ],
      "text/plain": [
       "                AAPL      ARKG      ARKK       EEM     GOOGL      ICLN  \\\n",
       "date                                                                     \n",
       "2016-06-07  0.004056 -0.006529  0.000502  0.009054  0.001411  0.005513   \n",
       "2016-06-08 -0.000909 -0.004381 -0.000502  0.007236  0.016195  0.000000   \n",
       "2016-06-09  0.007176 -0.024367 -0.014558 -0.011494 -0.000552 -0.010965   \n",
       "2016-06-10 -0.008229 -0.022383 -0.001528 -0.025291 -0.012565 -0.042128   \n",
       "2016-06-13 -0.015077 -0.012111 -0.014796 -0.014017 -0.001787 -0.028935   \n",
       "\n",
       "                MSFT       QQQ       VOO       VWO  \n",
       "date                                                \n",
       "2016-06-07 -0.000576 -0.002535  0.001806  0.009753  \n",
       "2016-06-08 -0.001152  0.001725  0.003296  0.008238  \n",
       "2016-06-09 -0.008071 -0.001631 -0.001540 -0.011271  \n",
       "2016-06-10 -0.002712 -0.011344 -0.009613 -0.025363  \n",
       "2016-06-13 -0.026029 -0.008353 -0.007526 -0.012573  "
      ]
     },
     "execution_count": 5,
     "metadata": {},
     "output_type": "execute_result"
    }
   ],
   "source": [
    "returns_df = df.pct_change(1).dropna()\n",
    "returns_df.head()"
   ]
  },
  {
   "cell_type": "code",
   "execution_count": 7,
   "metadata": {},
   "outputs": [
    {
     "data": {
      "text/plain": [
       "AAPL     0.001533\n",
       "ARKG     0.001488\n",
       "ARKK     0.001627\n",
       "EEM      0.000571\n",
       "GOOGL    0.001087\n",
       "ICLN     0.000951\n",
       "MSFT     0.001464\n",
       "QQQ      0.001015\n",
       "VOO      0.000702\n",
       "VWO      0.000555\n",
       "dtype: float64"
      ]
     },
     "execution_count": 7,
     "metadata": {},
     "output_type": "execute_result"
    }
   ],
   "source": [
    "returns_df.mean()"
   ]
  },
  {
   "cell_type": "code",
   "execution_count": 9,
   "metadata": {},
   "outputs": [
    {
     "data": {
      "text/plain": [
       "VOO    0.17555\n",
       "dtype: float64"
      ]
     },
     "execution_count": 9,
     "metadata": {},
     "output_type": "execute_result"
    }
   ],
   "source": [
    "returns_df9 = df9.pct_change(1).dropna() #using df9 because it is VOO, basically tracking the whole US market\n",
    "annual_market_return = returns_df9.mean() * 250\n",
    "annual_market_return"
   ]
  },
  {
   "cell_type": "code",
   "execution_count": 13,
   "metadata": {},
   "outputs": [
    {
     "data": {
      "text/plain": [
       "VOO    0.190492\n",
       "dtype: float64"
      ]
     },
     "execution_count": 13,
     "metadata": {},
     "output_type": "execute_result"
    }
   ],
   "source": [
    "#annual market risk calculation\n",
    "annual_market_risk = np.std(returns_df9) * np.sqrt(250)\n",
    "annual_market_risk"
   ]
  },
  {
   "cell_type": "code",
   "execution_count": 14,
   "metadata": {},
   "outputs": [],
   "source": [
    "def getPortReturn(weights): #calculating the expected return on the portfolio\n",
    "    \"\"\"\n",
    "    Returns the Annualised Expected Return of a portfolio.\n",
    "    Annualises the return using the 'crude' method.\n",
    "    \"\"\"\n",
    "    exp_ret_portfolio = np.dot(np.transpose(weights), returns_df.mean()) * 250\n",
    "    \n",
    "    return exp_ret_portfolio"
   ]
  },
  {
   "cell_type": "code",
   "execution_count": 15,
   "metadata": {},
   "outputs": [
    {
     "data": {
      "text/plain": [
       "[0.1, 0.1, 0.1, 0.1, 0.1, 0.1, 0.1, 0.1, 0.1, 0.1]"
      ]
     },
     "execution_count": 15,
     "metadata": {},
     "output_type": "execute_result"
    }
   ],
   "source": [
    "# Create a vector of equal weights as the initial (init) guess\n",
    "num_stocks = len(returns_df.columns)\n",
    "init_weights = [1 / num_stocks] * num_stocks\n",
    "init_weights"
   ]
  },
  {
   "cell_type": "code",
   "execution_count": 16,
   "metadata": {},
   "outputs": [
    {
     "data": {
      "text/plain": [
       "0.27480030648761644"
      ]
     },
     "execution_count": 16,
     "metadata": {},
     "output_type": "execute_result"
    }
   ],
   "source": [
    "# Calculate the expected return on the portfolio of equal weights\n",
    "getPortReturn(init_weights) #annualised return of 27.5%"
   ]
  },
  {
   "cell_type": "code",
   "execution_count": 17,
   "metadata": {},
   "outputs": [],
   "source": [
    "bounds = tuple((0,1) for i in range(num_stocks))\n",
    "cons = ({'type' :'eq', 'fun' : lambda w : np.sum(w) -1},\n",
    "        {'type' :'eq', 'fun' : lambda x : x.dot(returns_df.mean())*250 - annual_market_return}) "
   ]
  },
  {
   "cell_type": "code",
   "execution_count": 18,
   "metadata": {},
   "outputs": [
    {
     "data": {
      "text/plain": [
       "     fun: 0.17555020244940803\n",
       "     jac: array([0.38317505, 0.37188333, 0.40664976, 0.14283642, 0.27167399,\n",
       "       0.23779757, 0.36606871, 0.25365851, 0.1755502 , 0.13870952])\n",
       " message: 'Optimization terminated successfully.'\n",
       "    nfev: 24\n",
       "     nit: 2\n",
       "    njev: 2\n",
       "  status: 0\n",
       " success: True\n",
       "       x: array([4.16333634e-17, 1.80411242e-16, 0.00000000e+00, 2.65739401e-01,\n",
       "       5.48800443e-02, 1.10323185e-01, 0.00000000e+00, 8.43647217e-02,\n",
       "       2.12199055e-01, 2.72493593e-01])"
      ]
     },
     "execution_count": 18,
     "metadata": {},
     "output_type": "execute_result"
    }
   ],
   "source": [
    "results = minimize (fun=getPortReturn, x0=init_weights, bounds=bounds, constraints=cons)\n",
    "results #pretty close to the return of VOO"
   ]
  },
  {
   "cell_type": "code",
   "execution_count": 58,
   "metadata": {},
   "outputs": [
    {
     "data": {
      "text/html": [
       "<div>\n",
       "<style scoped>\n",
       "    .dataframe tbody tr th:only-of-type {\n",
       "        vertical-align: middle;\n",
       "    }\n",
       "\n",
       "    .dataframe tbody tr th {\n",
       "        vertical-align: top;\n",
       "    }\n",
       "\n",
       "    .dataframe thead th {\n",
       "        text-align: right;\n",
       "    }\n",
       "</style>\n",
       "<table border=\"1\" class=\"dataframe\">\n",
       "  <thead>\n",
       "    <tr style=\"text-align: right;\">\n",
       "      <th></th>\n",
       "      <th>weights_market_return</th>\n",
       "    </tr>\n",
       "  </thead>\n",
       "  <tbody>\n",
       "    <tr>\n",
       "      <th>AAPL</th>\n",
       "      <td>0.000</td>\n",
       "    </tr>\n",
       "    <tr>\n",
       "      <th>ARKG</th>\n",
       "      <td>0.000</td>\n",
       "    </tr>\n",
       "    <tr>\n",
       "      <th>ARKK</th>\n",
       "      <td>0.000</td>\n",
       "    </tr>\n",
       "    <tr>\n",
       "      <th>EEM</th>\n",
       "      <td>0.266</td>\n",
       "    </tr>\n",
       "    <tr>\n",
       "      <th>GOOGL</th>\n",
       "      <td>0.055</td>\n",
       "    </tr>\n",
       "    <tr>\n",
       "      <th>ICLN</th>\n",
       "      <td>0.110</td>\n",
       "    </tr>\n",
       "    <tr>\n",
       "      <th>MSFT</th>\n",
       "      <td>0.000</td>\n",
       "    </tr>\n",
       "    <tr>\n",
       "      <th>QQQ</th>\n",
       "      <td>0.084</td>\n",
       "    </tr>\n",
       "    <tr>\n",
       "      <th>VOO</th>\n",
       "      <td>0.212</td>\n",
       "    </tr>\n",
       "    <tr>\n",
       "      <th>VWO</th>\n",
       "      <td>0.272</td>\n",
       "    </tr>\n",
       "  </tbody>\n",
       "</table>\n",
       "</div>"
      ],
      "text/plain": [
       "       weights_market_return\n",
       "AAPL                   0.000\n",
       "ARKG                   0.000\n",
       "ARKK                   0.000\n",
       "EEM                    0.266\n",
       "GOOGL                  0.055\n",
       "ICLN                   0.110\n",
       "MSFT                   0.000\n",
       "QQQ                    0.084\n",
       "VOO                    0.212\n",
       "VWO                    0.272"
      ]
     },
     "execution_count": 58,
     "metadata": {},
     "output_type": "execute_result"
    }
   ],
   "source": [
    "optimised_weights = pd.DataFrame(results['x'])\n",
    "optimised_weights.index = returns_df.columns\n",
    "optimised_weights.rename(columns={optimised_weights.columns[0] : 'weights_market_return'}, inplace=True)\n",
    "optimised_weights['weights_market_return'] = optimised_weights['weights_market_return'].apply(lambda x : round(x, 3))\n",
    "optimised_weights"
   ]
  },
  {
   "cell_type": "code",
   "execution_count": 34,
   "metadata": {},
   "outputs": [
    {
     "data": {
      "text/plain": [
       "array([[0.19972871]])"
      ]
     },
     "execution_count": 34,
     "metadata": {},
     "output_type": "execute_result"
    }
   ],
   "source": [
    "vcv_matrix = returns_df.cov()\n",
    "var_p = np.dot(np.transpose(optimised_weights), np.dot(vcv_matrix,optimised_weights))\n",
    "portfolio_risk_annual = np.sqrt(var_p) * np.sqrt(250)\n",
    "portfolio_risk_annual #risk is 19.97% when we are trying to match the market portfolio"
   ]
  },
  {
   "cell_type": "code",
   "execution_count": 48,
   "metadata": {},
   "outputs": [],
   "source": [
    "def getPortRisk(weights): #weights is the parameter, we are creating objective function\n",
    "    \n",
    "    '''Returns the annualised standard deviation of a k asset portfolio.'''\n",
    "\n",
    "    returns_df = df.pct_change(1).dropna()  # estimate returns for each asset\n",
    "    num_stocks = len(returns_df.columns)  # number of stocks based on number of columns (excluding index col)\n",
    "                                          # this is a local variable\n",
    "        \n",
    "    vcv = returns_df.cov()  # being the variance covariance matrix\n",
    "    \n",
    "    var_p = np.dot(np.transpose(weights), np.dot(vcv, weights))  # variance of the multi-asset portfolio\n",
    "    sd_p = np.sqrt(var_p)  # standard deviation of the multi-asset portfolio\n",
    "    sd_p_annual = sd_p * np.sqrt(250)  # annualised standard deviation of the multi-asset portfolio\n",
    "    \n",
    "    return sd_p_annual"
   ]
  },
  {
   "cell_type": "code",
   "execution_count": 49,
   "metadata": {},
   "outputs": [],
   "source": [
    "cons2 = ({'type' :'eq', 'fun' : lambda y : np.sum(y) -1})"
   ]
  },
  {
   "cell_type": "code",
   "execution_count": 50,
   "metadata": {},
   "outputs": [],
   "source": [
    "results2 = minimize(fun=getPortRisk, x0=init_weights, bounds=bounds, constraints=cons2)"
   ]
  },
  {
   "cell_type": "code",
   "execution_count": 51,
   "metadata": {},
   "outputs": [
    {
     "data": {
      "text/plain": [
       "     fun: 0.18708227226097046\n",
       "     jac: array([0.22367729, 0.23015593, 0.24736513, 0.19685099, 0.20402578,\n",
       "       0.20416494, 0.2245053 , 0.20235765, 0.1870823 , 0.18708221])\n",
       " message: 'Optimization terminated successfully.'\n",
       "    nfev: 144\n",
       "     nit: 12\n",
       "    njev: 12\n",
       "  status: 0\n",
       " success: True\n",
       "       x: array([1.59770351e-17, 3.23850534e-17, 0.00000000e+00, 0.00000000e+00,\n",
       "       0.00000000e+00, 1.96143040e-17, 0.00000000e+00, 0.00000000e+00,\n",
       "       7.14190116e-01, 2.85809884e-01])"
      ]
     },
     "execution_count": 51,
     "metadata": {},
     "output_type": "execute_result"
    }
   ],
   "source": [
    "results2"
   ]
  },
  {
   "cell_type": "code",
   "execution_count": 52,
   "metadata": {},
   "outputs": [
    {
     "data": {
      "text/plain": [
       "0.22448477321542992"
      ]
     },
     "execution_count": 52,
     "metadata": {},
     "output_type": "execute_result"
    }
   ],
   "source": [
    "getPortRisk(init_weights)"
   ]
  },
  {
   "cell_type": "code",
   "execution_count": 61,
   "metadata": {},
   "outputs": [
    {
     "data": {
      "text/html": [
       "<div>\n",
       "<style scoped>\n",
       "    .dataframe tbody tr th:only-of-type {\n",
       "        vertical-align: middle;\n",
       "    }\n",
       "\n",
       "    .dataframe tbody tr th {\n",
       "        vertical-align: top;\n",
       "    }\n",
       "\n",
       "    .dataframe thead th {\n",
       "        text-align: right;\n",
       "    }\n",
       "</style>\n",
       "<table border=\"1\" class=\"dataframe\">\n",
       "  <thead>\n",
       "    <tr style=\"text-align: right;\">\n",
       "      <th></th>\n",
       "      <th>weights_minimized_risk</th>\n",
       "    </tr>\n",
       "  </thead>\n",
       "  <tbody>\n",
       "    <tr>\n",
       "      <th>AAPL</th>\n",
       "      <td>0.000</td>\n",
       "    </tr>\n",
       "    <tr>\n",
       "      <th>ARKG</th>\n",
       "      <td>0.000</td>\n",
       "    </tr>\n",
       "    <tr>\n",
       "      <th>ARKK</th>\n",
       "      <td>0.000</td>\n",
       "    </tr>\n",
       "    <tr>\n",
       "      <th>EEM</th>\n",
       "      <td>0.000</td>\n",
       "    </tr>\n",
       "    <tr>\n",
       "      <th>GOOGL</th>\n",
       "      <td>0.000</td>\n",
       "    </tr>\n",
       "    <tr>\n",
       "      <th>ICLN</th>\n",
       "      <td>0.000</td>\n",
       "    </tr>\n",
       "    <tr>\n",
       "      <th>MSFT</th>\n",
       "      <td>0.000</td>\n",
       "    </tr>\n",
       "    <tr>\n",
       "      <th>QQQ</th>\n",
       "      <td>0.000</td>\n",
       "    </tr>\n",
       "    <tr>\n",
       "      <th>VOO</th>\n",
       "      <td>0.714</td>\n",
       "    </tr>\n",
       "    <tr>\n",
       "      <th>VWO</th>\n",
       "      <td>0.286</td>\n",
       "    </tr>\n",
       "  </tbody>\n",
       "</table>\n",
       "</div>"
      ],
      "text/plain": [
       "       weights_minimized_risk\n",
       "AAPL                    0.000\n",
       "ARKG                    0.000\n",
       "ARKK                    0.000\n",
       "EEM                     0.000\n",
       "GOOGL                   0.000\n",
       "ICLN                    0.000\n",
       "MSFT                    0.000\n",
       "QQQ                     0.000\n",
       "VOO                     0.714\n",
       "VWO                     0.286"
      ]
     },
     "execution_count": 61,
     "metadata": {},
     "output_type": "execute_result"
    }
   ],
   "source": [
    "optimised_weights2 = pd.DataFrame(results2['x'])\n",
    "optimised_weights2.index = df.columns\n",
    "optimised_weights2.rename(columns={optimised_weights2.columns[0] : 'weights_minimized_risk'}, inplace=True)\n",
    "optimised_weights2['weights_minimized_risk'] = optimised_weights2['weights_minimized_risk'].apply(lambda x : round(x, 3))\n",
    "optimised_weights2"
   ]
  },
  {
   "cell_type": "code",
   "execution_count": 62,
   "metadata": {},
   "outputs": [
    {
     "data": {
      "text/html": [
       "<div>\n",
       "<style scoped>\n",
       "    .dataframe tbody tr th:only-of-type {\n",
       "        vertical-align: middle;\n",
       "    }\n",
       "\n",
       "    .dataframe tbody tr th {\n",
       "        vertical-align: top;\n",
       "    }\n",
       "\n",
       "    .dataframe thead th {\n",
       "        text-align: right;\n",
       "    }\n",
       "</style>\n",
       "<table border=\"1\" class=\"dataframe\">\n",
       "  <thead>\n",
       "    <tr style=\"text-align: right;\">\n",
       "      <th></th>\n",
       "      <th>weights_market_return</th>\n",
       "      <th>weights_minimized_risk</th>\n",
       "    </tr>\n",
       "  </thead>\n",
       "  <tbody>\n",
       "    <tr>\n",
       "      <th>AAPL</th>\n",
       "      <td>0.000</td>\n",
       "      <td>0.000</td>\n",
       "    </tr>\n",
       "    <tr>\n",
       "      <th>ARKG</th>\n",
       "      <td>0.000</td>\n",
       "      <td>0.000</td>\n",
       "    </tr>\n",
       "    <tr>\n",
       "      <th>ARKK</th>\n",
       "      <td>0.000</td>\n",
       "      <td>0.000</td>\n",
       "    </tr>\n",
       "    <tr>\n",
       "      <th>EEM</th>\n",
       "      <td>0.266</td>\n",
       "      <td>0.000</td>\n",
       "    </tr>\n",
       "    <tr>\n",
       "      <th>GOOGL</th>\n",
       "      <td>0.055</td>\n",
       "      <td>0.000</td>\n",
       "    </tr>\n",
       "    <tr>\n",
       "      <th>ICLN</th>\n",
       "      <td>0.110</td>\n",
       "      <td>0.000</td>\n",
       "    </tr>\n",
       "    <tr>\n",
       "      <th>MSFT</th>\n",
       "      <td>0.000</td>\n",
       "      <td>0.000</td>\n",
       "    </tr>\n",
       "    <tr>\n",
       "      <th>QQQ</th>\n",
       "      <td>0.084</td>\n",
       "      <td>0.000</td>\n",
       "    </tr>\n",
       "    <tr>\n",
       "      <th>VOO</th>\n",
       "      <td>0.212</td>\n",
       "      <td>0.714</td>\n",
       "    </tr>\n",
       "    <tr>\n",
       "      <th>VWO</th>\n",
       "      <td>0.272</td>\n",
       "      <td>0.286</td>\n",
       "    </tr>\n",
       "  </tbody>\n",
       "</table>\n",
       "</div>"
      ],
      "text/plain": [
       "       weights_market_return  weights_minimized_risk\n",
       "AAPL                   0.000                   0.000\n",
       "ARKG                   0.000                   0.000\n",
       "ARKK                   0.000                   0.000\n",
       "EEM                    0.266                   0.000\n",
       "GOOGL                  0.055                   0.000\n",
       "ICLN                   0.110                   0.000\n",
       "MSFT                   0.000                   0.000\n",
       "QQQ                    0.084                   0.000\n",
       "VOO                    0.212                   0.714\n",
       "VWO                    0.272                   0.286"
      ]
     },
     "execution_count": 62,
     "metadata": {},
     "output_type": "execute_result"
    }
   ],
   "source": [
    "Table = pd.concat([optimised_weights,optimised_weights2],axis=1)\n",
    "Table"
   ]
  },
  {
   "cell_type": "code",
   "execution_count": null,
   "metadata": {},
   "outputs": [],
   "source": []
  }
 ],
 "metadata": {
  "kernelspec": {
   "display_name": "Python 3",
   "language": "python",
   "name": "python3"
  },
  "language_info": {
   "codemirror_mode": {
    "name": "ipython",
    "version": 3
   },
   "file_extension": ".py",
   "mimetype": "text/x-python",
   "name": "python",
   "nbconvert_exporter": "python",
   "pygments_lexer": "ipython3",
   "version": "3.7.3"
  }
 },
 "nbformat": 4,
 "nbformat_minor": 2
}
